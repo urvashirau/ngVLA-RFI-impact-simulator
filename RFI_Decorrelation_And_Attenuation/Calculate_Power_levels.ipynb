{
 "cells": [
  {
   "cell_type": "markdown",
   "metadata": {},
   "source": [
    "# Calculate Power Levels"
   ]
  },
  {
   "cell_type": "markdown",
   "metadata": {},
   "source": [
    "#### PFD and SPFD to Jy calculations.\n",
    "\n",
    "Satellite PFD at the surface of the Earth : -146dBW/m2/4kHz"
   ]
  },
  {
   "cell_type": "code",
   "execution_count": null,
   "metadata": {},
   "outputs": [],
   "source": []
  },
  {
   "cell_type": "code",
   "execution_count": 20,
   "metadata": {},
   "outputs": [
    {
     "name": "stdout",
     "output_type": "stream",
     "text": [
      "SPFD incident at the VLA antenna (from SAT MainLobe): -182.02 [dB W/m2/Hz]\n",
      "SPFD incident at the VLA antenna (from SAT SideLobe): -220.32 [dB W/m2/Hz]\n",
      "SPFD incident at the VLA antenna (from UT SideLobe at 10.00 km distance): -163.72 [dB W/m2/Hz] \n",
      "\n",
      "VLA MainLobe and SAT_MainLobe\n",
      "=============================\n",
      "Recd power in one 125kHz channel :\t -105.40 dB W \t\t[2.89e-11 W]\n",
      "Recd spectral flux density :\t\t -182.02 dB W/m2/Hz \t[6.27e-19 W/m2/Hz] [6.27e+07 Jy]\n",
      "\n",
      "VLA SideLobe and SAT_MainLobe\n",
      "=============================\n",
      "Recd power in one 125kHz channel :\t -173.34 dB W \t\t[4.64e-18 W]\n",
      "Recd spectral flux density :\t\t -249.96 dB W/m2/Hz \t[1.01e-25 W/m2/Hz] [1.01e+01 Jy]\n",
      "\n",
      "VLA MainLobe and SAT_SideLobe\n",
      "=============================\n",
      "Recd power in one 125kHz channel :\t -143.70 dB W \t\t[4.27e-15 W]\n",
      "Recd spectral flux density :\t\t -220.32 dB W/m2/Hz \t[9.28e-23 W/m2/Hz] [9.28e+03 Jy]\n",
      "\n",
      "VLA SideLobe and SAT_SideLobe\n",
      "=============================\n",
      "Recd power in one 125kHz channel :\t -211.64 dB W \t\t[6.86e-22 W]\n",
      "Recd spectral flux density :\t\t -288.26 dB W/m2/Hz \t[1.49e-29 W/m2/Hz] [1.49e-03 Jy]\n",
      "\n",
      "VLA MainLobe and UT_SideLobe\n",
      "=============================\n",
      "Recd power in one 125kHz channel :\t -87.10 dB W \t\t[1.95e-09 W]\n",
      "Recd spectral flux density :\t\t -163.73 dB W/m2/Hz \t[4.24e-17 W/m2/Hz] [4.24e+09 Jy]\n",
      "\n",
      "VLA SideLobe and UT_SideLobe\n",
      "=============================\n",
      "Recd power in one 125kHz channel :\t -157.28 dB W \t\t[1.87e-16 W]\n",
      "Recd spectral flux density :\t\t -233.91 dB W/m2/Hz \t[4.06e-24 W/m2/Hz] [4.06e+02 Jy]\n"
     ]
    }
   ],
   "source": [
    "from numpy import log10,pi\n",
    "\n",
    "## PFD from the SAT (at the Earth's surface)\n",
    "sat_pfd={'MainLobe':-146,  'SideLobe':-146 - 38.3}  ## dB : W/(m2(4kHz))\n",
    "## Satellite forward gain = 38.3 dB\n",
    "##    Power in a sidelobe = Power in a mainlobe (dB) - 38.3 (dB)\n",
    "\n",
    "## SAT Spectral Power Flux Density (spfd)\n",
    "sat_spfd={}\n",
    "for sat_lobe in ['MainLobe','SideLobe']:\n",
    "    pfd_db = sat_pfd[sat_lobe]\n",
    "    pfd_w = 10**(pfd_db/10.0)\n",
    "    spfd_w_hz = pfd_w/4e+3   ## W/(m2 Hz)\n",
    "    spfd_db_hz = 10*log10(spfd_w_hz)\n",
    "    print(\"SPFD incident at the VLA antenna (from SAT %s): %3.2f [dB W/m2/Hz]\"%(sat_lobe,spfd_db_hz))\n",
    "    sat_spfd[sat_lobe]=spfd_db_hz\n",
    "\n",
    "## PFD from a UT (at a specified distance from the transmitter)\n",
    "gtx= 0 * cnv.dBi  ## Always a sidelobe\n",
    "ptx = 3.2 * u.W   ## Transmitted power\n",
    "ut_dist = 10.0  # km\n",
    "dist = ut_dist * u.km  ## Distance\n",
    "rec_pfd = cnv.powerflux_from_ptx(ptx, dist, gtx)   ## W/m2   in a 60MHz transmission band\n",
    "rec_ut_spfd = rec_pfd /(60e6 * u.Hz)   ## W/m2/Hz\n",
    "rec_ut_spfd_db = 10*log10(rec_ut_spfd/(1.0*u.W/(u.m*u.m*u.Hz)))\n",
    "print(\"SPFD incident at the VLA antenna (from UT SideLobe at %3.2f km distance): %3.2f [dB W/m2/Hz] \"%(ut_dist,rec_ut_spfd_db))\n",
    "\n",
    "rfi_spfd = {'SAT_MainLobe': sat_spfd['MainLobe'], 'SAT_SideLobe':sat_spfd['SideLobe'], 'UT_SideLobe':rec_ut_spfd_db}\n",
    "rfi_freq = {'SAT_MainLobe': 11e9, 'SAT_SideLobe':11e9, 'UT_SideLobe':14.25e9}\n",
    "\n",
    "\n",
    "for rfi_lobe in ['SAT_MainLobe','SAT_SideLobe','UT_SideLobe']:\n",
    "    for vla_lobe in ['MainLobe','SideLobe']:\n",
    "        \n",
    "        ## Calculate VLA antenna gain\n",
    "        if vla_lobe=='SideLobe':\n",
    "            grx = 0 * cnv.dBi\n",
    "        else:  # MainLobe ( https://www.everythingrf.com/rf-calculators/parabolic-reflector-antenna-gain)\n",
    "            d=25.0 # diameter in m\n",
    "            lam = 3e8/rfi_freq[rfi_lobe] # lamda in m\n",
    "            grx = 10*log10( 0.75 * (pi*d/lam)**2 )   * cnv.dBi\n",
    "                    \n",
    "        spfd_db = rfi_spfd[rfi_lobe]\n",
    "\n",
    "        freq = rfi_freq[rfi_lobe] * u.Hz\n",
    "        area = 0.75 * 3.14*(12.5**2)  * u.m*u.m   ## Collecting area of a VLA dish :  m2\n",
    "        chanbw = 125e3 * u.Hz    ## Chan bw  : Hz\n",
    "\n",
    "        \n",
    "        print(\"\\nVLA %s and %s\"%(vla_lobe,rfi_lobe))\n",
    "        print(\"=============================\")\n",
    "\n",
    "        spfd_w = 10**(spfd_db/10.0) * u.W / (u.m*u.m*u.Hz)  ##  W/m2/Hz\n",
    "        pfd_rec_chan = spfd_w * chanbw   ## Power Flux Density : W/m2 in one 125kHz channel.... \n",
    "\n",
    "        rec_pwr = cnv.prx_from_powerflux(powerflux=pfd_rec_chan, grx=grx, freq=freq)   # W  in a 125kHz channel\n",
    "        rec_pwr_W = rec_pwr / (1.0*u.W)   # W\n",
    "        rec_pwr_WdB = 10*log10(rec_pwr_W) # dB W\n",
    "        print(\"Recd power in one 125kHz channel :\\t %3.2f dB W \\t\\t[%3.2e W]\"%(rec_pwr_WdB, rec_pwr_W))\n",
    "\n",
    "        rec_spfd = rec_pwr / (area*chanbw)     # W / m2 /Hz    --> to get to Units of Jy...\n",
    "        rec_spfd_W = rec_spfd / (1.0*u.W/(u.m*u.m*u.Hz))\n",
    "        rec_spfd_dB = 10*log10(rec_spfd_W)\n",
    "        print(\"Recd spectral flux density :\\t\\t %3.2f dB W/m2/Hz \\t[%3.2e W/m2/Hz] [%3.2e Jy]\"%(rec_spfd_dB,rec_spfd_W,rec_spfd_W/1e-26))\n"
   ]
  }
 ],
 "metadata": {
  "kernelspec": {
   "display_name": "Python 3",
   "language": "python",
   "name": "python3"
  },
  "language_info": {
   "codemirror_mode": {
    "name": "ipython",
    "version": 3
   },
   "file_extension": ".py",
   "mimetype": "text/x-python",
   "name": "python",
   "nbconvert_exporter": "python",
   "pygments_lexer": "ipython3",
   "version": "3.6.4"
  }
 },
 "nbformat": 4,
 "nbformat_minor": 2
}
