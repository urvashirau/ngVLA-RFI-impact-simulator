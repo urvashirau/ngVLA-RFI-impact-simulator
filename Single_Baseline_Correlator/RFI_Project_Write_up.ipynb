{
 "cells": [
  {
   "cell_type": "markdown",
   "metadata": {},
   "source": [
    "# Script Purpose\n",
    "\n",
    "This script begins by simulating the correlation for a monochromatic wave. We then use a set of superposed cosines for a fixed phase center and varying theta. We run the sim through varying baselines as well see signal attenuation. \n",
    "\n",
    "\n",
    "# Signal Generation\n",
    "\n",
    "In order to generate a signal, we need to decide on a sample size. The samplesize for the actual array takes into consideration different bandwidths, channel widths, downconversion rates for the various antenna configurations and a center frequency. This script uses a model based only on the baseline length between two given antennas to calculate the samplize. We multiply an oversampling factor, $O$ to minimize distortions that may otherwise be present during sampling.\n",
    "\n",
    "\n",
    "## Defining Sample Size\n",
    "\n",
    "The geometric delay is baseline/c. (b.s/c). \n",
    "\n",
    "The number of samples for geometric delay = Sampling Freq * b/c \n",
    "\n",
    "$$ \\mathrm{Samplesize} =  2 * O * F_{obs} * \\frac{b}{c} + 1/CW + dt * step  $$\n",
    "\n",
    "where \n",
    "\n",
    "$F_{obs}$ = Center Frequency Observed \n",
    "\n",
    "CW = Channel Width\n",
    "\n",
    "dt * step = Integration time\n",
    "\n",
    "c = speed of light\n",
    "      \n",
    "b = baseline length\n",
    "\n",
    "O = Oversampling factor\n",
    "\n",
    "The factor 2 is to cover the nyquist rate.\n",
    "\n",
    "### Sampling rate\n",
    "\n",
    "The 'dt' can be derived by using b.s/c/samplesize and in this way we can make it independent of the center frequency. However, it can also be expressed as $\\frac{1}{(O * F_{obs})}$\n",
    "\n",
    "We also generate 'actual samplesize' which is larger than the samplesize calculated to incude the array shifting for real and imaginary channels. That is done by multiplying another factor to the samplesize.\n",
    "      \n"
   ]
  },
  {
   "cell_type": "code",
   "execution_count": null,
   "metadata": {},
   "outputs": [],
   "source": [
    "%run -i RFI_write_up_clean_copy.py"
   ]
  },
  {
   "cell_type": "code",
   "execution_count": null,
   "metadata": {},
   "outputs": [],
   "source": [
    "#F_observed needs to be many factors less than the Bandwidth to produce a larger samplesize.\n",
    "F_obs = 1e6#in Hz\n",
    "b = 10000#meters\n",
    "step = 100\n",
    "CW = 1e4\n",
    "o_fact = 2500# Oversampling Factor \n",
    "samplesize,dt,actual = sample_calc(CW,F_obs, b,o_fact,step)\n",
    "print('Samplesize', samplesize)"
   ]
  },
  {
   "cell_type": "markdown",
   "metadata": {},
   "source": [
    "## Signal\n",
    "\n",
    "### Monochromatic\n",
    "\n",
    "The radio waves in nature are in form of sines and cosines. \n",
    "\n",
    "dt = 1/Bandwidth\n",
    "\n",
    "The samplesize points are separated by length dt.\n",
    "\n",
    "The signal is then expressed as $$\\cos(2 * pi * [s] * dt * F_{obs})$$\n",
    "where [s] * dt is the time array\n",
    "and $F_{obs}$ is the center frequency.\n",
    "\n",
    "The units of cosine are in radians.\n",
    "\n",
    "For the following cell generates signals with two unique frequencies- $F_{obs}$ abd F2. The parameters- Bandwidth, baseline and oversampling factors are generated in the previous cell. "
   ]
  },
  {
   "cell_type": "code",
   "execution_count": null,
   "metadata": {},
   "outputs": [],
   "source": [
    "#cell before this needs to be run to initialize parameters\n",
    "Sig,Time = sig_gen( F_obs, b, dt, actual)"
   ]
  },
  {
   "cell_type": "code",
   "execution_count": null,
   "metadata": {},
   "outputs": [],
   "source": [
    "#generating a second signal 10 Mhz away from the first frequency F_obs\n",
    "F2 = 1e6 + F_obs \n",
    "Sig2, Time2 = sig_gen( F2, b, dt, actual)"
   ]
  },
  {
   "cell_type": "code",
   "execution_count": null,
   "metadata": {},
   "outputs": [],
   "source": [
    "plt.plot(Time,Sig,'o')\n",
    "plt.plot(Time2,Sig2,'r')\n",
    "plt.title('Single Frequency Signals')\n",
    "plt.xlabel('Time')\n",
    "plt.ylabel('Amplitude')\n",
    "plt.legend(['F_obs','F2'])\n",
    "plt.xlim(0,0.0001)\n",
    "plt.show()"
   ]
  },
  {
   "cell_type": "markdown",
   "metadata": {},
   "source": [
    "# Total Delay for any geostationary RFI or equivalent\n",
    "\n",
    "Given two antennas and a phase center as shown in the figure below:\n",
    "\n",
    "\n",
    "<img src=\"files/D_tdiagram.jpg\" style=\"width: 500px;\">\n",
    "\n",
    "\n",
    "\n",
    "The following are the delays and projected baselines for the above symmetry:\n",
    "\n",
    "$$D_{phc}= B \\cos\\theta$$\n",
    "\n",
    "\n",
    "$$D_{RFI} = B \\cos\\phi $$\n",
    "\n",
    "\n",
    "where,\n",
    "\n",
    "$D_{phc}$ = Phase center delay length \n",
    "\n",
    "$D_{RFI}$ = RFI delay length\n",
    "\n",
    "Given an angle for the source and an angle for a source of interference, the total phase delay would become(from Thompson 1982):\n",
    "\n",
    "$$D_t = \\frac{B  * |\\cos\\theta - \\cos\\phi| * F_{obs} * 2 *\\pi}{c}$$\n",
    "\n",
    "where \n",
    "\n",
    "D_t = total phase delay in units of radians.\n",
    "\n",
    "B = baseline length\n",
    "\n",
    "$\\theta $ = Source center or Phase Center\n",
    "\n",
    "$\\phi $ = Radio Frequency Interference Source\n",
    "      \n",
    "c = speed of light \n",
    "      \n",
    "$F_{obs}$ = Center Frequency Observed \n",
    "\n",
    "We can run this delay as a function of theta or as a function of \n",
    "baseline given a fixed theta. That is what the cell below shows. \n"
   ]
  },
  {
   "cell_type": "code",
   "execution_count": null,
   "metadata": {},
   "outputs": [],
   "source": [
    "#this cell can be run independently\n",
    "%run -i RFI_write_up_clean_copy.py\n",
    "\n",
    "\n",
    "F_obs_c = 1e8#in Hz\n",
    "theta_c = 10\n",
    "phi_c =np.arange(0 ,90,3)\n",
    "baselines_in = 100#np.arange(0,300,50)\n",
    "D_t = tot_phase(F_obs_c, baselines_in,phi_c, theta_c)\n",
    "\n",
    "plt.plot(phi_c,D_t,'o')\n",
    "plt.xlabel('Baselines(m)')\n",
    "plt.ylabel('Total Phase Delay(deg)')\n",
    "plt.legend(['Baselines vs Total Phase Delay(deg)'])\n",
    "plt.show()\n",
    "\n"
   ]
  },
  {
   "cell_type": "markdown",
   "metadata": {},
   "source": [
    "# Calculating the number of shifted samples\n",
    "\n",
    "In this case, instead of $\\theta$, we use the total phase delay function, $D_t$ to acount for the geometric delay due to the baselines also.  \n",
    "\n",
    "\n",
    "$$\\lambda  = \\frac{c}{F_{obs}}$$\n",
    "\n",
    "Fraction of wavelength shifted for a given total phase delay $D_t$:\n",
    "\n",
    "$$\\lambda_{frac} = \\frac{D_t}{2\\pi}$$\n",
    "\n",
    "Samples to shift:\n",
    "\n",
    "$$\\mathrm{tshift} = \\frac{D_t}{2\\pi} * \\frac{\\lambda}{c * dt} $$\n",
    "\n",
    "where\n",
    "\n",
    "$\\mathrm{tshift}$ = Number of samples required to shift the wave by the phase $D_t$\n",
    "\n",
    "$D_t$ = Total phase delay betwween antennas\n",
    "\n",
    "c = speed of light \n",
    "\n",
    "dt = $\\frac{1}{Bandwidth}$\n",
    "\n",
    "\n",
    "tshift is unitless.\n",
    "\n",
    "Samples to shift for imaginary magnitude:\n",
    "$$\\mathrm{tshift} = \\frac{D_t + 90}{2\\pi} * \\frac{\\lambda}{c * dt} $$\n",
    "\n",
    "\n",
    "\n"
   ]
  },
  {
   "cell_type": "code",
   "execution_count": null,
   "metadata": {},
   "outputs": [],
   "source": [
    "%run -i RFI_write_up_clean_copy.py\n",
    "\n",
    "#the first few cells need to be sun before this one \n",
    "\n",
    "F_obs = 1e8#in Hz\n",
    "phi1 = 30\n",
    "theta = 0\n",
    "tshift, imtshift= tshift_calc(Sig, F_obs, b, phi1,theta ,dt)\n",
    "print(tshift)\n",
    "print(imtshift)"
   ]
  },
  {
   "cell_type": "markdown",
   "metadata": {},
   "source": [
    "# Correlation of Waves\n",
    "\n",
    "The correlator function needs three types of wave inputs to output visibility function :\n",
    "- An imaginary magnitude of the visibility function is created by correlating the wave with phase shift 90 deg + $\\theta$ and the original wave with no phase shift. \n",
    "- A real magnitude of the visibility function is created by correlating the wave with phase shift $\\theta$ and original wave with no phase shift.\n",
    "\n",
    "The real and imaginary channels are multiplied and accumulated to give a mean amplitude value from the two channels. Those values are then combined to get a complex visibility amplitude and the arctan of the two values gives us back the phase delay or the total phase delay in our case. \n",
    "\n",
    "The following cell runs through the single frequency case as well as the superposition of two frequencies case and gets back the recovered delay. There were discrepancies in the recovered delay value for loops beyond 180 deg so we use the formula below in the 'recov_b' or recovered phase to recovered the initial phase offset we input. "
   ]
  },
  {
   "cell_type": "code",
   "execution_count": null,
   "metadata": {
    "scrolled": true
   },
   "outputs": [],
   "source": [
    "# to see what the np.angle does to total phase delay > 180 \n",
    "\n",
    "recov2 = []\n",
    "recov = [] \n",
    "Dts = []\n",
    "amp = []\n",
    "\n",
    " \n",
    "recov2_f2 = []\n",
    "recov_f2 = []\n",
    "Dts_f2 = []\n",
    "amp_f2 = []\n",
    " \n",
    "\n",
    "\n",
    "begin = -360 # units in degrees\n",
    "end = 360\n",
    "inter = 30\n",
    "theta = 0\n",
    "\n",
    "for phi2 in np.arange(begin,end,inter):\n",
    "    D_t = tot_phase(F_obs, b, phi2, theta)\n",
    "    D_t_f2 = tot_phase(F2, b, phi2, theta)\n",
    "\n",
    " \n",
    "    tshift,imtshift = tshift_calc(Sig, F_obs, b, phi2 ,theta,dt)\n",
    "    tshift2,imtshift2 = tshift_calc(Sig2, F2, b, phi2 ,theta,dt)\n",
    "\n",
    "\n",
    "    orig,real, im = shift_sigs(Sig,samplesize, tshift,imtshift,actual)\n",
    "    orig2,real2, im2 = shift_sigs(Sig2,samplesize, tshift2,imtshift2,actual)\n",
    "\n",
    "#plt.plot(orig)\n",
    "#plt.plot(real,'r')\n",
    "#plt.plot(im,'g')\n",
    "#plt.xlim(0,200)\n",
    "#plt.legend(['Original','Real','Imaginary'])\n",
    "#plt.show()\n",
    "\n",
    "\n",
    "    step = 200\n",
    "    meanr, meani, complexvis= correlate(orig,real,im,step,F_obs,samplesize)\n",
    "    meanr2, meani2, complexvis2= correlate(orig2,real2,im2,step,F2,samplesize)\n",
    "\n",
    "    \n",
    "    recov_angle = np.angle(meanr-meani*1j, deg=True)\n",
    "    recov_angle_f2 = np.angle(meanr2-meani2*1j, deg=True)\n",
    "\n",
    "\n",
    "    recov_b =  D_t - (360 * np.round( D_t/360))\n",
    "    recov_b_f2 =  D_t_f2 - (360 * np.round( D_t_f2/360))\n",
    "\n",
    "\n",
    "    recov2.append(recov_b)\n",
    "    recov2_f2.append(recov_b_f2)\n",
    "\n",
    "\n",
    "    recov.append(recov_angle)\n",
    "    recov_f2.append(recov_angle_f2)\n",
    "\n",
    "\n",
    "    Dts.append(D_t)\n",
    "    Dts_f2.append(D_t_f2)\n",
    "\n",
    "\n",
    "    amp.append(np.abs(complexvis))\n",
    "    amp_f2.append(np.abs(complexvis2))\n",
    "\n",
    "\n",
    "#print('The angle recovered back using the real and imaginary magnitude',np.angle(complexvis,deg = True))\n",
    "#print(meanr)\n",
    "#print(meani)\n",
    "#print(np.angle(meanr+meani*1j, deg=True))\n",
    "\n",
    "accuracy_phase = dt * F_obs * 360.0 \n",
    "\n",
    "\n",
    "print('Total Phase Delay(deg) =',Dts)\n",
    "print('Recovered Phase delay(deg) = ', recov)\n",
    "print('---------------------------------------')\n",
    "print('Recovered by force =', recov2)\n",
    "#print('Difference = ',abs(np.array(Dts))- abs(np.array(recov)))\n",
    "print('---------------------------------------')\n",
    "#print('Theta(deg) = ',np.arange(begin,end,inter))\n",
    "#print('Total phase delay - accuracy factor =', np.array(Dts) - accuracy_phase)\n",
    "\n",
    "\n"
   ]
  },
  {
   "cell_type": "code",
   "execution_count": null,
   "metadata": {},
   "outputs": [],
   "source": [
    "fig = plt.figure(figsize=(12, 12))\n",
    "ax1 = fig.add_subplot(2,2,1)\n",
    "ax1.plot(Dts, recov,'ro-')\n",
    "ax1.title.set_text('Single Frequency:D_t vs Recovered D_t')\n",
    "ax2 = fig.add_subplot(2,2,2)\n",
    "ax2.plot(Dts,recov2,'r-')\n",
    "ax2.title.set_text('Double Frequency:D_t vs Recovered D_t')\n",
    "ax3 = fig.add_subplot(2,2,3)\n",
    "ax3.plot(Dts,amp,'o')\n",
    "ax3.title.set_text('Single Frequency:D_t vs Amplitude')\n",
    "ax4 = fig.add_subplot(2,2,4)\n",
    "ax4.plot(Dts_f2,amp_f2)\n",
    "ax4.title.set_text('DoubleFrequency:D_t vs Amplitude')\n",
    "plt.show()\n",
    "\n",
    "\n",
    "\n",
    "print('The offset factor for single frequency case = ',np.mean(abs(np.array(recov2)-np.array(recov))))\n",
    "#V_avg = 2*V_p/pi, where V_p is peak voltage\n",
    "A = 1 # the amplitude for our cosines\n",
    "print('the theoretical power of a sine wave is', (A**2)/2 )\n",
    "print('The offset factor for double frequency case = ',np.mean(abs(np.array(recov2_f2)-np.array(recov_f2))))\n",
    "\n"
   ]
  },
  {
   "cell_type": "markdown",
   "metadata": {},
   "source": [
    "# Generating Superposed Waves\n",
    "\n",
    "Next, we generate superposed cosines by selecting a range of frequencies and adding all of them togehter. The cell below generates such a signal."
   ]
  },
  {
   "cell_type": "code",
   "execution_count": null,
   "metadata": {},
   "outputs": [],
   "source": [
    "%run -i RFI_write_up_clean_copy.py\n",
    "\n",
    "\n",
    "#Generating multiple signals\n",
    "F_obs = 1e8#in Hz\n",
    "b = 100 #meters\n",
    "F_delta = 1e3\n",
    "o_fact= 250\n",
    "step = 100\n",
    "Fend = 10e6 + F_obs\n",
    "SigB,time3,samplesize2,dt2,actual2 = mul_sig_gen( F_obs,Fend,F_delta, b,o_fact,step)\n",
    "\n",
    "\n",
    "plt.plot(time3,SigB,'r')\n",
    "plt.title('Superposed Cosines')\n",
    "plt.xlabel('time')\n",
    "plt.ylabel('Amplitude')\n",
    "plt.show()"
   ]
  },
  {
   "cell_type": "markdown",
   "metadata": {},
   "source": [
    "# Theoretical Sinc\n",
    "\n",
    "Thompson equation 2.4 gives us the theoretical formula for antennas just phased upto some coordinate:\n",
    "\n",
    "$$\\cos(\\frac{b* \\sin\\theta * 2 *\\pi* v_o}{c}) * \\frac{\\sin(\\frac{b* \\sin\\theta *\\pi* \\delta v}{c})}{\\frac{b *\\pi* \\delta v}{c}}$$\n",
    "\n",
    "where \n",
    "\n",
    "b = baseline length\n",
    "\n",
    "$\\theta $ = phase delay between the two antennas \n",
    "      \n",
    "c = speed of light \n",
    "      \n",
    "$v_o$ = Center Frequency Observed \n",
    "\n",
    "$\\delta v$ = Channel Width \n",
    "\n",
    "\n",
    "For the RFI case or a case where you have an RFI some degrees away from where the telescope is phased up:\n",
    "\n",
    "\n",
    "$$\\cos(\\frac{b* \\cos\\theta * \\sin\\phi * 2 *\\pi}{c}) * \\frac{\\sin(\\frac{b* \\sin\\phi *\\pi* \\delta v}{c})}{\\frac{b *\\pi* \\delta v}{c}}$$\n",
    "\n",
    "where \n",
    "\n",
    "b = baseline length\n",
    "\n",
    "$\\theta $ = phase delay between the two antennas \n",
    "      \n",
    "c = speed of light \n",
    "      \n",
    "$v_o$ = Center Frequency Observed \n",
    "\n",
    "$\\delta v$ = Channel Width \n",
    "\n",
    "\n"
   ]
  },
  {
   "cell_type": "code",
   "execution_count": 30,
   "metadata": {
    "scrolled": true
   },
   "outputs": [
    {
     "data": {
      "image/png": "[encoded data removed]",
      "text/plain": [
       "<Figure size 432x288 with 1 Axes>"
      ]
     },
     "metadata": {
      "needs_background": "light"
     },
     "output_type": "display_data"
    }
   ],
   "source": [
    "%run -i RFI_write_up_clean_copy.py\n",
    "\n",
    "\n",
    "F_obs = 1e6#in Hz\n",
    "b = 1000 #np.arange(1,3560,100) #in meters\n",
    "b2 = 10000\n",
    "F_del = 5e6\n",
    "o_fact= 250\n",
    "F_end = 200e6 + F_obs\n",
    "theta = 0\n",
    "phi = np.arange(-90,90,1)\n",
    "\n",
    "in_theory =  sinc_theory_rfi(b,theta,F_del,F_obs,phi )\n",
    "in_theory2 =  sinc_theory_rfi(b2,theta,F_del,F_obs,phi )\n",
    "\n",
    "\n",
    "plt.plot(phi,in_theory)\n",
    "plt.plot(phi,in_theory2,'r')\n",
    "plt.title('Attentuation for 1-D ')\n",
    "plt.xlabel('RFI Location(deg)')\n",
    "plt.ylabel('Amplitude')\n",
    "plt.legend(['1 km','10 km'])\n",
    "plt.show()"
   ]
  },
  {
   "cell_type": "markdown",
   "metadata": {},
   "source": [
    "# Plots\n",
    "\n",
    "## Varying Phase\n",
    "The following cell goes through different phases and plots the phase recovered vs original input and the amplitude vs original phase input."
   ]
  },
  {
   "cell_type": "code",
   "execution_count": 27,
   "metadata": {
    "scrolled": true
   },
   "outputs": [
    {
     "name": "stdout",
     "output_type": "stream",
     "text": [
      "dt 1.1428571428571429e-10 s\n",
      "actual samplesize 291660\n",
      "Integration Time(s) 5.714285714285715e-07\n"
     ]
    }
   ],
   "source": [
    "%run -i RFI_write_up_clean_copy.py\n",
    "\n",
    "\n",
    "#This cell can run independently. \n",
    "\n",
    "\n",
    "step1 = 5000\n",
    "phinterval = 4\n",
    "startphi = -90\n",
    "endphi = 90\n",
    "\n",
    "F_obs_1 = 30e6#in Hz\n",
    "b1 = 250 #meters\n",
    "\n",
    "F_end = 10e6 + F_obs_1 #in Hz\n",
    "F_del = 1e6 #in Hz, not below this. \n",
    "o_fact = 250\n",
    "theta = 0\n",
    "\n",
    "F_center = (F_obs_1+F_end)/2\n",
    "\n",
    "#to run a multi-loop \n",
    "Sig_mult,Time,samplesize,dt,actual =  mul_sig_gen( F_center,F_end,F_del, b1,o_fact,step1)\n",
    "phi_input,phasestored, amplitude, D_t_store = loop(samplesize, F_center,step1, phinterval,startphi,endphi,b1,Sig_mult,dt,actual,theta)\n",
    "\n",
    "p = np.arange(startphi,endphi,phinterval)\n",
    "amp_calc= sinc_theory(b1,phi_input,F_del,F_obs_1)\n"
   ]
  },
  {
   "cell_type": "code",
   "execution_count": 28,
   "metadata": {
    "scrolled": false
   },
   "outputs": [
    {
     "data": {
      "image/png": "[encoded data removed]",
      "text/plain": [
       "<Figure size 432x288 with 1 Axes>"
      ]
     },
     "metadata": {
      "needs_background": "light"
     },
     "output_type": "display_data"
    },
    {
     "data": {
      "image/png": "[encoded data removed]",
      "text/plain": [
       "<Figure size 432x288 with 1 Axes>"
      ]
     },
     "metadata": {
      "needs_background": "light"
     },
     "output_type": "display_data"
    }
   ],
   "source": [
    "plt.plot(D_t_store,phasestored,'o-')\n",
    "plt.title('Varying Theta:Phase Recovery')\n",
    "plt.xlabel('Phase-In (Deg)')\n",
    "plt.ylabel('Phase-Out (Deg)')\n",
    "#plt.ylim(2000,-2000)\n",
    "plt.show()\n",
    "\n",
    "plt.plot(D_t_store,amplitude/np.max(amplitude),'o-')\n",
    "plt.plot(D_t_store,amp_calc/np.max(amp_calc),'o-')\n",
    "#plt.xlim(-4000,4000)\n",
    "plt.title('Varying Theta :Amplitude Plot')\n",
    "plt.legend(['Sim','Theory'])\n",
    "plt.show()\n",
    "\n"
   ]
  },
  {
   "cell_type": "markdown",
   "metadata": {},
   "source": [
    "## Varying Baseline\n",
    "\n",
    "The following cells produce plots for changing baselines for two different theta along with their respective theoretical predications. \n"
   ]
  },
  {
   "cell_type": "code",
   "execution_count": 3,
   "metadata": {},
   "outputs": [
    {
     "name": "stdout",
     "output_type": "stream",
     "text": [
      "dt 2.8571428571428573e-11 s\n",
      "actual samplesize 1190000\n",
      "Integration Time(s) 5.714285714285714e-09\n",
      "Coherence Time 1e-06\n",
      "dt 2.8571428571428573e-11 s\n",
      "actual samplesize 1190000\n",
      "Integration Time(s) 5.714285714285714e-09\n",
      "Coherence Time 1e-06\n"
     ]
    }
   ],
   "source": [
    "%run -i RFI_write_up_clean_copy.py\n",
    "\n",
    "#Same initial parameters as above\n",
    "step1 = 200\n",
    "F_obs_1 = 100e6#in Hz\n",
    "F_end = 10e6 + F_obs_1 #in Hz\n",
    "F_del2 = 1e6 #in Hz, not below this. \n",
    "o_fact = 350\n",
    "#new parameters\n",
    "start_b=-255\n",
    "end_b= 255.0 #range of baselines 1-255 m.\n",
    "theta= 0\n",
    "\n",
    "interval_b=1 #in m\n",
    "phi2 = 90.0 #deg\n",
    "\n",
    "#Generating loops \n",
    "ph2,am2,totph2,base2 = loop_base( F_obs_1,step1,start_b,end_b, interval_b,phi2,theta,F_end,F_del2,o_fact)\n"
   ]
  },
  {
   "cell_type": "code",
   "execution_count": 7,
   "metadata": {
    "scrolled": true
   },
   "outputs": [],
   "source": [
    "#Generating Theoretical Predictions for the tho angles\n",
    "amp_theory2 = sinc_theory((base2),phi2,F_del,F_obs_1)"
   ]
  },
  {
   "cell_type": "code",
   "execution_count": 12,
   "metadata": {
    "scrolled": true
   },
   "outputs": [
    {
     "data": {
      "image/png": "[encoded data removed]",
      "text/plain": [
       "<Figure size 432x288 with 1 Axes>"
      ]
     },
     "metadata": {
      "needs_background": "light"
     },
     "output_type": "display_data"
    }
   ],
   "source": [
    "\n",
    "plt.plot(totph2,am2/np.max(am2),'go-')\n",
    "plt.plot(totph2,amp_theory2/np.max(amp_theory2),'bo-')\n",
    "plt.title('Varying Baselines for different theta')\n",
    "plt.xlabel('Total Phase In')\n",
    "plt.ylabel('Amplitude')\n",
    "#plt.xlim(-30,30)\n",
    "#plt.ylim(0,0.06)\n",
    "plt.legend(['90 deg(sim)','90 deg(theory)'])\n",
    "plt.show()\n",
    "\n",
    "#plt.plot(totph,ph/np.max(ph),'ro-')\n",
    "#plt.plot(totph2,ph2/np.max(ph2),'go-')\n",
    "#plt.title('Phase Recovery Plot')\n",
    "#plt.show()"
   ]
  },
  {
   "cell_type": "code",
   "execution_count": null,
   "metadata": {},
   "outputs": [],
   "source": []
  }
 ],
 "metadata": {
  "kernelspec": {
   "display_name": "Python 3",
   "language": "python",
   "name": "python3"
  },
  "language_info": {
   "codemirror_mode": {
    "name": "ipython",
    "version": 3
   },
   "file_extension": ".py",
   "mimetype": "text/x-python",
   "name": "python",
   "nbconvert_exporter": "python",
   "pygments_lexer": "ipython3",
   "version": "3.7.1"
  },
  "toc": {
   "base_numbering": 1,
   "nav_menu": {},
   "number_sections": true,
   "sideBar": true,
   "skip_h1_title": false,
   "title_cell": "Table of Contents",
   "title_sidebar": "Contents",
   "toc_cell": false,
   "toc_position": {
    "height": "calc(100% - 180px)",
    "left": "10px",
    "top": "150px",
    "width": "165px"
   },
   "toc_section_display": true,
   "toc_window_display": true
  },
  "varInspector": {
   "cols": {
    "lenName": 16,
    "lenType": 16,
    "lenVar": 40
   },
   "kernels_config": {
    "python": {
     "delete_cmd_postfix": "",
     "delete_cmd_prefix": "del ",
     "library": "var_list.py",
     "varRefreshCmd": "print(var_dic_list())"
    },
    "r": {
     "delete_cmd_postfix": ") ",
     "delete_cmd_prefix": "rm(",
     "library": "var_list.r",
     "varRefreshCmd": "cat(var_dic_list()) "
    }
   },
   "types_to_exclude": [
    "module",
    "function",
    "builtin_function_or_method",
    "instance",
    "_Feature"
   ],
   "window_display": false
  }
 },
 "nbformat": 4,
 "nbformat_minor": 2
}
